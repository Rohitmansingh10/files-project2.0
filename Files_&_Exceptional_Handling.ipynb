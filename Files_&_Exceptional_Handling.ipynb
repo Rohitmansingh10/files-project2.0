{
  "nbformat": 4,
  "nbformat_minor": 0,
  "metadata": {
    "colab": {
      "provenance": []
    },
    "kernelspec": {
      "name": "python3",
      "display_name": "Python 3"
    },
    "language_info": {
      "name": "python"
    }
  },
  "cells": [
    {
      "cell_type": "markdown",
      "source": [
        "## 4. Write a Python program using multithreading where one thread adds numbers to a list, and another thread removes numbers from the list. Implement a mechanism to avoid race conditions using threading.Lock.\n",
        "\n"
      ],
      "metadata": {
        "id": "NEnhfur_feVN"
      }
    },
    {
      "cell_type": "code",
      "execution_count": 1,
      "metadata": {
        "colab": {
          "base_uri": "https://localhost:8080/"
        },
        "id": "kyHpdcmVfXpA",
        "outputId": "bb31fb4a-ed0b-4ca5-9189-583977a0414f"
      },
      "outputs": [
        {
          "output_type": "stream",
          "name": "stdout",
          "text": [
            "Added 18 to the list. Current list: [18]\n",
            "Removed 18 from the list. Current list: []\n",
            "Added 84 to the list. Current list: [84]\n",
            "Removed 84 from the list. Current list: []\n",
            "Added 24 to the list. Current list: [24]\n",
            "Removed 24 from the list. Current list: []\n",
            "Added 43 to the list. Current list: [43]\n",
            "Added 70 to the list. Current list: [43, 70]\n",
            "Removed 43 from the list. Current list: [70]\n",
            "Added 59 to the list. Current list: [70, 59]\n",
            "Removed 70 from the list. Current list: [59]\n",
            "Added 33 to the list. Current list: [59, 33]\n",
            "Removed 59 from the list. Current list: [33]\n",
            "Added 80 to the list. Current list: [33, 80]\n",
            "Removed 33 from the list. Current list: [80]\n",
            "Added 95 to the list. Current list: [80, 95]\n",
            "Added 80 to the list. Current list: [80, 95, 80]\n",
            "Removed 80 from the list. Current list: [95, 80]\n",
            "Removed 95 from the list. Current list: [80]\n",
            "Removed 80 from the list. Current list: []\n",
            "Final list: []\n"
          ]
        }
      ],
      "source": [
        "import threading\n",
        "import time\n",
        "import random\n",
        "\n",
        "# Shared list\n",
        "shared_list = []\n",
        "\n",
        "# Lock object to prevent race conditions\n",
        "list_lock = threading.Lock()\n",
        "\n",
        "# Function to add numbers to the list\n",
        "def add_numbers():\n",
        "    for i in range(10):\n",
        "        time.sleep(random.uniform(0.1, 0.5))  # Simulate some work\n",
        "        with list_lock:  # Lock the list for thread-safe access\n",
        "            num = random.randint(1, 100)\n",
        "            shared_list.append(num)\n",
        "            print(f\"Added {num} to the list. Current list: {shared_list}\")\n",
        "\n",
        "# Function to remove numbers from the list\n",
        "def remove_numbers():\n",
        "    for i in range(10):\n",
        "        time.sleep(random.uniform(0.2, 0.6))  # Simulate some work\n",
        "        with list_lock:  # Lock the list for thread-safe access\n",
        "            if shared_list:\n",
        "                num = shared_list.pop(0)  # Remove the first number\n",
        "                print(f\"Removed {num} from the list. Current list: {shared_list}\")\n",
        "            else:\n",
        "                print(\"List is empty, nothing to remove.\")\n",
        "\n",
        "# Create two threads\n",
        "t1 = threading.Thread(target=add_numbers)\n",
        "t2 = threading.Thread(target=remove_numbers)\n",
        "\n",
        "# Start the threads\n",
        "t1.start()\n",
        "t2.start()\n",
        "\n",
        "# Wait for both threads to complete\n",
        "t1.join()\n",
        "t2.join()\n",
        "\n",
        "print(\"Final list:\", shared_list)\n"
      ]
    },
    {
      "cell_type": "markdown",
      "source": [
        "## 7. Create a program that uses a thread pool to calculate the factorial of numbers from 1 to 10 concurrently Use concurrent.futures.ThreadPoolExecutor to manage the threads.\n"
      ],
      "metadata": {
        "id": "UY0BRJ5qiVRD"
      }
    },
    {
      "cell_type": "code",
      "source": [
        "from concurrent.futures import ThreadPoolExecutor, as_completed\n",
        "import math\n",
        "\n",
        "# Function to compute factorial of a given number\n",
        "def factorial(n):\n",
        "    print(f\"Calculating factorial of {n}\")\n",
        "    return n, math.factorial(n)\n",
        "\n",
        "# Main block\n",
        "if __name__ == \"__main__\":\n",
        "    # List of numbers from 1 to 10\n",
        "    numbers = range(1, 11)\n",
        "\n",
        "    # Create a ThreadPoolExecutor with a pool of threads\n",
        "    with ThreadPoolExecutor(max_workers=5) as executor:\n",
        "        # Submit tasks for each number in the range\n",
        "        futures = [executor.submit(factorial, num) for num in numbers]\n",
        "\n",
        "        # Process results as tasks are completed\n",
        "        for future in as_completed(futures):\n",
        "            num, result = future.result()  # Get the result of each completed task\n",
        "            print(f\"Factorial of {num} is {result}\")\n"
      ],
      "metadata": {
        "colab": {
          "base_uri": "https://localhost:8080/"
        },
        "id": "0_-ZWtRxf3N5",
        "outputId": "dbd94b6a-fb78-447d-e7cb-81b829b66ed7"
      },
      "execution_count": 2,
      "outputs": [
        {
          "output_type": "stream",
          "name": "stdout",
          "text": [
            "Calculating factorial of 1\n",
            "Calculating factorial of 2\n",
            "Calculating factorial of 3\n",
            "Calculating factorial of 4\n",
            "Calculating factorial of 5\n",
            "Calculating factorial of 6\n",
            "Calculating factorial of 7\n",
            "Calculating factorial of 8\n",
            "Calculating factorial of 9\n",
            "Calculating factorial of 10\n",
            "Factorial of 3 is 6\n",
            "Factorial of 8 is 40320\n",
            "Factorial of 6 is 720\n",
            "Factorial of 4 is 24\n",
            "Factorial of 1 is 1\n",
            "Factorial of 7 is 5040\n",
            "Factorial of 9 is 362880\n",
            "Factorial of 5 is 120\n",
            "Factorial of 10 is 3628800\n",
            "Factorial of 2 is 2\n"
          ]
        }
      ]
    },
    {
      "cell_type": "markdown",
      "source": [
        "## 8. Create a Python program that uses multiprocessing.Pool to compute the square of numbers from 1 to 10 in parallel. Measure the time taken to perform this computation using a pool of different sizes (e.g., 2, 4, 8 )\n",
        "\n"
      ],
      "metadata": {
        "id": "vItb2dz8i0th"
      }
    },
    {
      "cell_type": "code",
      "source": [
        "from concurrent.futures import ThreadPoolExecutor, as_completed\n",
        "import math\n",
        "import time\n",
        "\n",
        "# Function to compute factorial of a given number\n",
        "def factorial(n):\n",
        "    return n, math.factorial(n)\n",
        "\n",
        "# Function to measure time taken by different pool sizes\n",
        "def measure_time(pool_size):\n",
        "    numbers = range(1, 11)\n",
        "    start_time = time.time()  # Start the timer\n",
        "\n",
        "    with ThreadPoolExecutor(max_workers=pool_size) as executor:\n",
        "        futures = [executor.submit(factorial, num) for num in numbers]\n",
        "        for future in as_completed(futures):\n",
        "            num, result = future.result()\n",
        "            # Optionally, print the results if needed\n",
        "            # print(f\"Factorial of {num} is {result}\")\n",
        "\n",
        "    end_time = time.time()  # End the timer\n",
        "    return end_time - start_time\n",
        "\n",
        "if __name__ == \"__main__\":\n",
        "    pool_sizes = [2, 4, 8]  # Pool sizes to test\n",
        "    for pool_size in pool_sizes:\n",
        "        execution_time = measure_time(pool_size)\n",
        "        print(f\"Time taken with a pool of {pool_size} threads: {execution_time:.4f} seconds\")\n"
      ],
      "metadata": {
        "colab": {
          "base_uri": "https://localhost:8080/"
        },
        "id": "J12Ikgy1ioJO",
        "outputId": "025f42ae-da9c-403a-fa63-9fced219b470"
      },
      "execution_count": 3,
      "outputs": [
        {
          "output_type": "stream",
          "name": "stdout",
          "text": [
            "Time taken with a pool of 2 threads: 0.0019 seconds\n",
            "Time taken with a pool of 4 threads: 0.0021 seconds\n",
            "Time taken with a pool of 8 threads: 0.0017 seconds\n"
          ]
        }
      ]
    },
    {
      "cell_type": "code",
      "source": [],
      "metadata": {
        "id": "GqkElcbjjOMM"
      },
      "execution_count": null,
      "outputs": []
    }
  ]
}